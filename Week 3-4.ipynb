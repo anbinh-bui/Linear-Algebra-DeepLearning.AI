{
 "cells": [
  {
   "cell_type": "markdown",
   "metadata": {},
   "source": [
    "# Week 3: Neural Networks"
   ]
  },
  {
   "cell_type": "markdown",
   "metadata": {},
   "source": [
    "## Implementation of the Neural Network Model \n",
    "Apply matrix mutliplication to build a single perceptron neural network (linear regression model). Part of the codes (Optimization with gradient descent) are from the course Calculus for Machine Learning and Data Science.\n",
    "\n",
    "The general methodology to build a neural network is to:\n",
    "1. Define the neural network structure ( # of input units, # of hidden units, etc).\n",
    "2. Initialize the model's parameters\n",
    "3. Loop:\n",
    "- Implement forward propagation (calculate the perceptron output),\n",
    "- Implement backward propagation (to get the required corrections for the parameters),\n",
    "- Update parameters\n",
    "4. Make predictions"
   ]
  },
  {
   "cell_type": "code",
   "execution_count": 14,
   "metadata": {},
   "outputs": [],
   "source": [
    "import numpy as np\n",
    "import matplotlib.pyplot as plt\n",
    "from matplotlib import colors\n",
    "from sklearn.datasets import make_regression"
   ]
  },
  {
   "cell_type": "markdown",
   "metadata": {},
   "source": [
    "### 0. Dataset"
   ]
  },
  {
   "cell_type": "code",
   "execution_count": 20,
   "metadata": {},
   "outputs": [],
   "source": [
    "m = 30 \n",
    "X, Y = make_regression(n_samples=m, n_features=1, noise=20, random_state=1)\n",
    "X, Y = X.reshape((1, m)), Y.reshape((1, m))"
   ]
  },
  {
   "cell_type": "code",
   "execution_count": 27,
   "metadata": {},
   "outputs": [
    {
     "data": {
      "text/plain": [
       "Text(0, 0.5, 'Y')"
      ]
     },
     "execution_count": 27,
     "metadata": {},
     "output_type": "execute_result"
    },
    {
     "data": {
      "image/png": "[encoded data removed]",
      "text/plain": [
       "<Figure size 432x288 with 1 Axes>"
      ]
     },
     "metadata": {
      "needs_background": "light"
     },
     "output_type": "display_data"
    }
   ],
   "source": [
    "plt.scatter(X, Y)\n",
    "plt.xlabel('X')\n",
    "plt.ylabel('Y')"
   ]
  },
  {
   "cell_type": "markdown",
   "metadata": {},
   "source": [
    "### 1. Define the Neural Network Structure\n",
    "Define two variables:\n",
    "- `n_x`: the size of the input layer\n",
    "- `n_y`: the size of the output layer\n",
    "\n",
    "using shapes of arrays `X` and `Y`."
   ]
  },
  {
   "cell_type": "code",
   "execution_count": 28,
   "metadata": {},
   "outputs": [],
   "source": [
    "def layer_sizes(X, Y):\n",
    "    n_x = X.shape[0]\n",
    "    n_y = Y.shape[0]\n",
    "    return (n_x, n_y)"
   ]
  },
  {
   "cell_type": "code",
   "execution_count": 29,
   "metadata": {},
   "outputs": [],
   "source": [
    "(n_x, n_y) = layer_sizes(X, Y)"
   ]
  },
  {
   "cell_type": "markdown",
   "metadata": {},
   "source": [
    "### 2. Initialize the model's parameters\n",
    "Initialize the weights array of shape $(n_y \\times n_x) = (1 \\times 1)$ with random values and the bias vector of shape $(n_y \\times 1) = (1 \\times 1)$ with zeros."
   ]
  },
  {
   "cell_type": "code",
   "execution_count": 30,
   "metadata": {},
   "outputs": [],
   "source": [
    "def initialize_parameters(n_x, n_y):\n",
    "    W = np.random.randn(n_y, n_x) * 0.01\n",
    "    b = np.zeros((n_y, 1))\n",
    "    parameters = {\"W\": W, \"b\": b} # dictionary of parameters\n",
    "    return parameters"
   ]
  },
  {
   "cell_type": "code",
   "execution_count": 35,
   "metadata": {},
   "outputs": [
    {
     "data": {
      "text/plain": [
       "{'W': array([[-0.01194915]]), 'b': array([[0.]])}"
      ]
     },
     "execution_count": 35,
     "metadata": {},
     "output_type": "execute_result"
    }
   ],
   "source": [
    "parameters = initialize_parameters(n_x, n_y)\n",
    "parameters"
   ]
  },
  {
   "cell_type": "markdown",
   "metadata": {},
   "source": [
    "### 3. Implement forward propagation\n",
    "- Retrieve parameters from the dictionary \"parameters\"\n",
    "- Implement forward propagation: compute Z (Y_hat) multiplying arrays W, X, and adding bias b. "
   ]
  },
  {
   "cell_type": "code",
   "execution_count": 32,
   "metadata": {},
   "outputs": [],
   "source": [
    "def forward_propagation(X, parameters):\n",
    "    W = parameters[\"W\"]\n",
    "    b = parameters[\"b\"]\n",
    "    Z = np.dot(W, X) + b # W @ X + b\n",
    "    return Z"
   ]
  },
  {
   "cell_type": "code",
   "execution_count": 36,
   "metadata": {},
   "outputs": [
    {
     "data": {
      "text/plain": [
       "array([[-0.00381225,  0.01282107, -0.01034089,  0.00206037, -0.01367848,\n",
       "        -0.00600438,  0.02750144,  0.00816997,  0.00458912,  0.01048966,\n",
       "         0.02461694,  0.01315147,  0.01314277, -0.01354758, -0.02084902,\n",
       "         0.00146843,  0.01118165, -0.01940955, -0.01747095, -0.01077324,\n",
       "         0.00909578, -0.0063373 ,  0.0063112 ,  0.00320104, -0.00696415,\n",
       "        -0.00050442, -0.01076447,  0.00297976,  0.00730997,  0.00385261]])"
      ]
     },
     "execution_count": 36,
     "metadata": {},
     "output_type": "execute_result"
    }
   ],
   "source": [
    "Y_hat = forward_propagation(X, parameters)\n",
    "Y_hat"
   ]
  },
  {
   "cell_type": "markdown",
   "metadata": {},
   "source": [
    "### 4. Define cost function to train the model\n",
    "$$\\mathcal{L}\\left(W, b\\right)  = \\frac{1}{2m}\\sum_{i=1}^{m}  \\large\\left(\\small \\hat{y}^{(i)} - y^{(i)}  \\large  \\right)^2 \\small.$$"
   ]
  },
  {
   "cell_type": "code",
   "execution_count": 39,
   "metadata": {},
   "outputs": [],
   "source": [
    "def compute_cost(Y_hat, Y):\n",
    "    m = Y.shape[1]\n",
    "    cost = np.sum((Y_hat - Y) ** 2) / (2 * m)\n",
    "    return cost"
   ]
  },
  {
   "cell_type": "code",
   "execution_count": 40,
   "metadata": {},
   "outputs": [
    {
     "data": {
      "text/plain": [
       "791.303809326908"
      ]
     },
     "execution_count": 40,
     "metadata": {},
     "output_type": "execute_result"
    }
   ],
   "source": [
    "cost = compute_cost(Y_hat, Y)\n",
    "cost"
   ]
  },
  {
   "cell_type": "markdown",
   "metadata": {},
   "source": [
    "### 5. Optimize Cost function by Gradient Descent\n",
    "The aim is to optimize the loss function by adjusting the weights and bias. This process is Backward Propagation.\n",
    "- Calculate gradients by backward propagation\n",
    "\\begin{align}\n",
    "\\frac{\\partial \\mathcal{L} }{ \\partial w } &= \n",
    "\\frac{1}{m}\\sum_{i=1}^{m} \\left(\\hat{y}^{(i)} - y^{(i)}\\right)x^{(i)},\\\\\n",
    "\\frac{\\partial \\mathcal{L} }{ \\partial b } &= \n",
    "\\frac{1}{m}\\sum_{i=1}^{m} \\left(\\hat{y}^{(i)} - y^{(i)}\\right).\n",
    "\\tag{5}\\end{align}\n",
    "- Update parameters from the gradients calculated above\n",
    "\\begin{align}\n",
    "W &= W - \\alpha \\frac{\\partial \\mathcal{L} }{ \\partial W },\\\\\n",
    "b &= b - \\alpha \\frac{\\partial \\mathcal{L} }{ \\partial b }.\\end{align}"
   ]
  },
  {
   "cell_type": "code",
   "execution_count": 42,
   "metadata": {},
   "outputs": [],
   "source": [
    "def backward_propagation(Y_hat, X, Y):\n",
    "\n",
    "    m = X.shape[1] # number of observations\n",
    "\n",
    "    dZ = Y_hat - Y # difference between prediction and true value\n",
    "    dW = 1/m * np.matmul(dZ, X.T) # derivative of cost with respect to W\n",
    "    db = 1/m * np.sum(dZ, axis = 1, keepdims = True) # derivative of cost with respect to b\n",
    "    grads = {\"dW\": dW,\n",
    "            \"db\": db}\n",
    "    return grads"
   ]
  },
  {
   "cell_type": "code",
   "execution_count": 43,
   "metadata": {},
   "outputs": [
    {
     "data": {
      "text/plain": [
       "{'dW': array([[-36.37697291]]), 'db': array([[-0.14759876]])}"
      ]
     },
     "execution_count": 43,
     "metadata": {},
     "output_type": "execute_result"
    }
   ],
   "source": [
    "grads = backward_propagation(Y_hat, X, Y)\n",
    "grads"
   ]
  },
  {
   "cell_type": "code",
   "execution_count": 44,
   "metadata": {},
   "outputs": [],
   "source": [
    "def update_parameters(parameters, grads, learning_rate=1.2):\n",
    "    W = parameters[\"W\"]\n",
    "    b = parameters[\"b\"]\n",
    "    dW = grads[\"dW\"]\n",
    "    db = grads[\"db\"]\n",
    "\n",
    "    W = W - learning_rate * dW\n",
    "    b = b - learning_rate * db\n",
    "    parameters = {\"W\": W, \"b\": b}\n",
    "    return parameters"
   ]
  },
  {
   "cell_type": "code",
   "execution_count": 45,
   "metadata": {},
   "outputs": [
    {
     "data": {
      "text/plain": [
       "{'W': array([[43.64041833]]), 'b': array([[0.17711852]])}"
      ]
     },
     "execution_count": 45,
     "metadata": {},
     "output_type": "execute_result"
    }
   ],
   "source": [
    "updated_params = update_parameters(parameters, grads)\n",
    "updated_params"
   ]
  },
  {
   "cell_type": "markdown",
   "metadata": {},
   "source": [
    "### 6. Build Neural Networks"
   ]
  },
  {
   "cell_type": "code",
   "execution_count": 57,
   "metadata": {},
   "outputs": [],
   "source": [
    "def nn_model(X, Y, num_iterations=10, learning_rate=0.1, print_cost=False):\n",
    "    n_x, n_y = layer_sizes(X, Y)[0], layer_sizes(X, Y)[1]\n",
    "    parameters = initialize_parameters(n_x, n_y)\n",
    "    for i in range(num_iterations): # iteration for gradient descent\n",
    "        Y_hat = forward_propagation(X, parameters) # predict (with current parameters)\n",
    "        cost = compute_cost(Y_hat, Y) # calculate cost\n",
    "        grads = backward_propagation(Y_hat, X, Y) # calculate gradients\n",
    "        parameters = update_parameters(parameters, grads, learning_rate) # update parametesr\n",
    "        if print_cost:\n",
    "            print(f\"Cost after iteration {i}: {cost}\")\n",
    "\n",
    "    return parameters"
   ]
  },
  {
   "cell_type": "code",
   "execution_count": 58,
   "metadata": {},
   "outputs": [
    {
     "name": "stdout",
     "output_type": "stream",
     "text": [
      "Cost after iteration 0: 790.2889207901632\n",
      "Cost after iteration 1: 664.9133077236728\n",
      "Cost after iteration 2: 563.8328902256061\n",
      "Cost after iteration 3: 482.3251456361357\n",
      "Cost after iteration 4: 416.58828938282016\n",
      "Cost after iteration 5: 363.5612378436035\n",
      "Cost after iteration 6: 320.778873426512\n",
      "Cost after iteration 7: 286.2556711993414\n",
      "Cost after iteration 8: 258.39211445191955\n",
      "Cost after iteration 9: 235.89942432454987\n",
      "Cost after iteration 10: 217.73900961489758\n",
      "Cost after iteration 11: 203.07374998588293\n",
      "Cost after iteration 12: 191.2287934332174\n",
      "Cost after iteration 13: 181.6600046086061\n",
      "Cost after iteration 14: 173.9285665448223\n",
      "Cost after iteration 15: 167.68053222419485\n",
      "Cost after iteration 16: 162.63035849488998\n",
      "Cost after iteration 17: 158.54764447830408\n",
      "Cost after iteration 18: 155.24644897865716\n",
      "Cost after iteration 19: 152.57668384639877\n",
      "Cost after iteration 20: 150.4171786536884\n",
      "Cost after iteration 21: 148.67009114296226\n",
      "Cost after iteration 22: 147.25640150524268\n",
      "Cost after iteration 23: 146.11227968151897\n",
      "Cost after iteration 24: 145.18615600567463\n",
      "Cost after iteration 25: 144.4363585865022\n",
      "Cost after iteration 26: 143.82920743789208\n",
      "Cost after iteration 27: 143.3374767783693\n",
      "Cost after iteration 28: 142.93915415254605\n",
      "Cost after iteration 29: 142.6164388963646\n",
      "Cost after iteration 30: 142.35493363311193\n",
      "Cost after iteration 31: 142.1429914768927\n",
      "Cost after iteration 32: 141.9711888596338\n",
      "Cost after iteration 33: 141.83189972858614\n",
      "Cost after iteration 34: 141.71895155852133\n",
      "Cost after iteration 35: 141.62734740747842\n",
      "Cost after iteration 36: 141.5530412948296\n",
      "Cost after iteration 37: 141.49275663867195\n",
      "Cost after iteration 38: 141.44383947126795\n",
      "Cost after iteration 39: 141.40413974908907\n",
      "Cost after iteration 40: 141.3719153625764\n",
      "Cost after iteration 41: 141.3457544900608\n",
      "Cost after iteration 42: 141.32451277873912\n",
      "Cost after iteration 43: 141.30726251213395\n",
      "Cost after iteration 44: 141.29325146944126\n",
      "Cost after iteration 45: 141.28186962286162\n",
      "Cost after iteration 46: 141.27262217479523\n",
      "Cost after iteration 47: 141.26510772405715\n",
      "Cost after iteration 48: 141.25900058228677\n",
      "Cost after iteration 49: 141.25403644912976\n",
      "Cost after iteration 50: 141.2500008061862\n",
      "Cost after iteration 51: 141.24671951206548\n",
      "Cost after iteration 52: 141.24405117977201\n",
      "Cost after iteration 53: 141.24188099757887\n",
      "Cost after iteration 54: 141.24011571917336\n",
      "Cost after iteration 55: 141.23867960111664\n",
      "Cost after iteration 56: 141.23751110792998\n",
      "Cost after iteration 57: 141.23656023931073\n",
      "Cost after iteration 58: 141.23578636164723\n",
      "Cost after iteration 59: 141.23515644839003\n",
      "Cost after iteration 60: 141.2346436519555\n",
      "Cost after iteration 61: 141.23422614450908\n",
      "Cost after iteration 62: 141.23388617685143\n",
      "Cost after iteration 63: 141.23360931424952\n",
      "Cost after iteration 64: 141.2333838158459\n",
      "Cost after iteration 65: 141.2332001305899\n",
      "Cost after iteration 66: 141.2330504877494\n",
      "Cost after iteration 67: 141.2329285642054\n",
      "Cost after iteration 68: 141.23282921409017\n",
      "Cost after iteration 69: 141.23274824905485\n",
      "Cost after iteration 70: 141.2326822596577\n",
      "Cost after iteration 71: 141.23262847015732\n",
      "Cost after iteration 72: 141.23258462044538\n",
      "Cost after iteration 73: 141.23254887003293\n",
      "Cost after iteration 74: 141.23251971996035\n",
      "Cost after iteration 75: 141.23249594927526\n",
      "Cost after iteration 76: 141.23247656335423\n",
      "Cost after iteration 77: 141.23246075185412\n",
      "Cost after iteration 78: 141.23244785449393\n",
      "Cost after iteration 79: 141.23243733320552\n",
      "Cost after iteration 80: 141.2324287494647\n",
      "Cost after iteration 81: 141.23242174583635\n",
      "Cost after iteration 82: 141.23241603094922\n",
      "Cost after iteration 83: 141.23241136726065\n",
      "Cost after iteration 84: 141.23240756109195\n",
      "Cost after iteration 85: 141.2324044545132\n",
      "Cost after iteration 86: 141.23240191873137\n",
      "Cost after iteration 87: 141.23239984870534\n",
      "Cost after iteration 88: 141.23239815875678\n",
      "Cost after iteration 89: 141.23239677899457\n",
      "Cost after iteration 90: 141.2323956524009\n",
      "Cost after iteration 91: 141.23239473245533\n",
      "Cost after iteration 92: 141.23239398119938\n",
      "Cost after iteration 93: 141.23239336765755\n",
      "Cost after iteration 94: 141.23239286655095\n",
      "Cost after iteration 95: 141.23239245724773\n",
      "Cost after iteration 96: 141.23239212290738\n",
      "Cost after iteration 97: 141.23239184978328\n",
      "Cost after iteration 98: 141.23239162665283\n",
      "Cost after iteration 99: 141.2323914443539\n"
     ]
    },
    {
     "data": {
      "text/plain": [
       "{'W': array([[35.71861575]]), 'b': array([[2.28863187]])}"
      ]
     },
     "execution_count": 58,
     "metadata": {},
     "output_type": "execute_result"
    }
   ],
   "source": [
    "parameters = nn_model(X, Y, num_iterations=100, learning_rate=0.1, print_cost=True)\n",
    "parameters"
   ]
  },
  {
   "cell_type": "markdown",
   "metadata": {},
   "source": [
    "### 7. Make Predictions"
   ]
  },
  {
   "cell_type": "code",
   "execution_count": 59,
   "metadata": {},
   "outputs": [],
   "source": [
    "def predict(X, parameters): \n",
    "    W = parameters[\"W\"]\n",
    "    b = parameters[\"b\"]\n",
    "    Z = W @ X + b\n",
    "    return Z"
   ]
  },
  {
   "cell_type": "code",
   "execution_count": 63,
   "metadata": {},
   "outputs": [
    {
     "data": {
      "text/plain": [
       "array([[ 13.68426675, -36.03632205,  33.19979445,  -3.87026502,\n",
       "         43.17657821,  20.23703408, -79.91914448, -22.13318081,\n",
       "        -11.42925805, -29.06725564, -71.29674252, -37.02396161,\n",
       "        -36.99796167,  42.78530693,  64.61089284,  -2.10083687,\n",
       "        -31.13575698,  60.30799976,  54.51310346,  34.49220439,\n",
       "        -24.90062493,  21.232195  , -16.576932  ,  -7.27995951,\n",
       "         23.10598455,   3.79644847,  34.46595937,  -6.61853275,\n",
       "        -19.5624604 ,  -9.22766435]])"
      ]
     },
     "execution_count": 63,
     "metadata": {},
     "output_type": "execute_result"
    }
   ],
   "source": [
    "Y_hat = predict(X, parameters)\n",
    "Y_hat"
   ]
  },
  {
   "cell_type": "code",
   "execution_count": 69,
   "metadata": {},
   "outputs": [
    {
     "data": {
      "text/plain": [
       "[<matplotlib.lines.Line2D at 0x7fba8d0307c0>]"
      ]
     },
     "execution_count": 69,
     "metadata": {},
     "output_type": "execute_result"
    },
    {
     "data": {
      "image/png": "[encoded data removed]",
      "text/plain": [
       "<Figure size 432x288 with 1 Axes>"
      ]
     },
     "metadata": {
      "needs_background": "light"
     },
     "output_type": "display_data"
    }
   ],
   "source": [
    "plt.scatter(X, Y) # directly plot the data points\n",
    "plt.plot(X.flatten(), Y_hat.flatten(), color='red') # convert the arrays into 1D to plot them as a line graph"
   ]
  }
 ],
 "metadata": {
  "kernelspec": {
   "display_name": "Python 3",
   "language": "python",
   "name": "python3"
  },
  "language_info": {
   "codemirror_mode": {
    "name": "ipython",
    "version": 3
   },
   "file_extension": ".py",
   "mimetype": "text/x-python",
   "name": "python",
   "nbconvert_exporter": "python",
   "pygments_lexer": "ipython3",
   "version": "3.9.12"
  }
 },
 "nbformat": 4,
 "nbformat_minor": 2
}
