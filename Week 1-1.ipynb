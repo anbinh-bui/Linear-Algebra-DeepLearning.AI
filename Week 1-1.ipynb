{
 "cells": [
  {
   "cell_type": "markdown",
   "metadata": {},
   "source": [
    "# Week 1. Systems of Linear Equations"
   ]
  },
  {
   "cell_type": "markdown",
   "metadata": {},
   "source": [
    "## Numpy Basics"
   ]
  },
  {
   "cell_type": "code",
   "execution_count": 2,
   "metadata": {},
   "outputs": [],
   "source": [
    "import numpy as np"
   ]
  },
  {
   "cell_type": "markdown",
   "metadata": {},
   "source": [
    "Numpy has more (built in) functions and takes up less space and time than Python list (array), because of its extensive API integration."
   ]
  },
  {
   "cell_type": "code",
   "execution_count": 3,
   "metadata": {},
   "outputs": [
    {
     "data": {
      "text/plain": [
       "array([10, 12])"
      ]
     },
     "execution_count": 3,
     "metadata": {},
     "output_type": "execute_result"
    }
   ],
   "source": [
    "# Array object in numpy is ndarray (n-dimensional array)\n",
    "one_dimensional_array = np.array([10,12])\n",
    "one_dimensional_array"
   ]
  },
  {
   "cell_type": "markdown",
   "metadata": {},
   "source": [
    "## Create an array "
   ]
  },
  {
   "cell_type": "code",
   "execution_count": 4,
   "metadata": {},
   "outputs": [
    {
     "name": "stdout",
     "output_type": "stream",
     "text": [
      "[1 2]\n",
      "[[1 2 3]\n",
      " [4 5 6]]\n",
      "[0 1 2 3 4]\n",
      "[0.  0.5 1.  1.5 2.  2.5 3.  3.5 4.  4.5]\n",
      "[0 0 0 0 0 0 0 0 0 0]\n",
      "[0.         0.55555556 1.11111111 1.66666667 2.22222222 2.77777778\n",
      " 3.33333333 3.88888889 4.44444444 5.        ]\n",
      "[0 0 1 1 2 2 3 3 4 5]\n",
      "[1. 1. 1. 1. 1.]\n",
      "[0. 0. 0. 0. 0.]\n",
      "[0. 0. 0. 0. 0.]\n",
      "[0.85473259 0.46661644 0.49577919 0.53843444 0.78436462]\n"
     ]
    }
   ],
   "source": [
    "## 1-D\n",
    "x1 = np.array([1,2])\n",
    "print(x1)\n",
    "## 2-D \n",
    "x11 = np.array([[1, 2, 3], [4, 5, 6]])\n",
    "print(x11)\n",
    "\n",
    "## Array of evenly spaced values within a given interval \n",
    "x2 = np.arange(5)\n",
    "print(x2)\n",
    "x3 = np.arange(0, 5, 0.5)\n",
    "print(x3)\n",
    "x6 = np.arange(0, 5, 0.5, dtype=int)\n",
    "print(x6)\n",
    "\n",
    "## Array of N evenly spaced values within a given interval (linearly spaced array)\n",
    "x4 = np.linspace(0, 5, 10)\n",
    "print(x4) # default type: float\n",
    "x5 = np.linspace(0, 5, 10, dtype=int)\n",
    "print(x5) # rounded to the closest integer\n",
    "\n",
    "## Array of N 1s\n",
    "x7 = np.ones(5)\n",
    "print(x7)\n",
    "\n",
    "## Array of N 0s\n",
    "x8 = np.zeros(5)\n",
    "print(x8)\n",
    "\n",
    "## Array of shape N, emtpy\n",
    "x9 = np.empty(5)\n",
    "print(x9)\n",
    "\n",
    "## Array of shape N with random numbers between 0 and 1\n",
    "x10 = np.random.rand(5)\n",
    "print(x10)\n"
   ]
  },
  {
   "cell_type": "markdown",
   "metadata": {},
   "source": [
    "## Size, shape, dimension"
   ]
  },
  {
   "cell_type": "code",
   "execution_count": 16,
   "metadata": {},
   "outputs": [
    {
     "name": "stdout",
     "output_type": "stream",
     "text": [
      "[[1 2 3]\n",
      " [4 5 6]]\n"
     ]
    }
   ],
   "source": [
    "## Reshape\n",
    "x1 = np.array([1, 2, 3, 4, 5, 6]) \n",
    "x2 = np.reshape(x1, (2,3)) #([[1x3],[1x3]])\n",
    "print(x2)\n"
   ]
  },
  {
   "cell_type": "code",
   "execution_count": 17,
   "metadata": {},
   "outputs": [
    {
     "data": {
      "text/plain": [
       "(2, 3)"
      ]
     },
     "execution_count": 17,
     "metadata": {},
     "output_type": "execute_result"
    }
   ],
   "source": [
    "## Shape\n",
    "x2.shape"
   ]
  },
  {
   "cell_type": "code",
   "execution_count": 18,
   "metadata": {},
   "outputs": [
    {
     "data": {
      "text/plain": [
       "2"
      ]
     },
     "execution_count": 18,
     "metadata": {},
     "output_type": "execute_result"
    }
   ],
   "source": [
    "## Dimension\n",
    "x2.ndim"
   ]
  },
  {
   "cell_type": "code",
   "execution_count": 19,
   "metadata": {},
   "outputs": [
    {
     "data": {
      "text/plain": [
       "6"
      ]
     },
     "execution_count": 19,
     "metadata": {},
     "output_type": "execute_result"
    }
   ],
   "source": [
    "## Size\n",
    "x2.size"
   ]
  },
  {
   "cell_type": "markdown",
   "metadata": {},
   "source": [
    "## Operations\n",
    "### Broadcast"
   ]
  },
  {
   "cell_type": "code",
   "execution_count": 20,
   "metadata": {},
   "outputs": [
    {
     "data": {
      "text/plain": [
       "array([1.5, 3. , 4.5, 6. , 7.5, 9. ])"
      ]
     },
     "execution_count": 20,
     "metadata": {},
     "output_type": "execute_result"
    }
   ],
   "source": [
    "x1 * 1.5"
   ]
  },
  {
   "cell_type": "markdown",
   "metadata": {},
   "source": [
    "## Indexing & Slicing"
   ]
  },
  {
   "cell_type": "code",
   "execution_count": 22,
   "metadata": {},
   "outputs": [
    {
     "data": {
      "text/plain": [
       "array([ True,  True,  True,  True,  True,  True])"
      ]
     },
     "execution_count": 22,
     "metadata": {},
     "output_type": "execute_result"
    }
   ],
   "source": [
    "x1[:] == x1[::]"
   ]
  },
  {
   "cell_type": "code",
   "execution_count": 26,
   "metadata": {},
   "outputs": [
    {
     "data": {
      "text/plain": [
       "(array([[1, 2, 3],\n",
       "        [4, 5, 6]]),\n",
       " array([1, 4]),\n",
       " array([1, 2, 3]))"
      ]
     },
     "execution_count": 26,
     "metadata": {},
     "output_type": "execute_result"
    }
   ],
   "source": [
    "# Full, Column 0 of all rows, Row 0 of all columns\n",
    "x2[:, :], x2[:, 0], x2[0, :]"
   ]
  },
  {
   "cell_type": "code",
   "execution_count": 32,
   "metadata": {},
   "outputs": [
    {
     "name": "stdout",
     "output_type": "stream",
     "text": [
      "[[4 5 6]]\n",
      "[[4 5 6]]\n",
      "[[2 3]\n",
      " [5 6]]\n"
     ]
    }
   ],
   "source": [
    "# Last 2 rows (only 1 here though)\n",
    "print(x2[1:3])\n",
    "print(x2[1:3,:]) # same with ,:\n",
    "\n",
    "# Last 2 columns\n",
    "print(x2[:, 1: 3]) # need :,"
   ]
  },
  {
   "cell_type": "markdown",
   "metadata": {},
   "source": [
    "## Stacking\n",
    "To join 2 or more arrays horizontally or vertically (done along a new axis)\n",
    "- `np.vstack()` - stacks vertically\n",
    "- `np.hstack()` - stacks horizontally\n",
    "- `np.hsplit()` - splits an array into several smaller arrays"
   ]
  },
  {
   "cell_type": "code",
   "execution_count": 37,
   "metadata": {},
   "outputs": [
    {
     "name": "stdout",
     "output_type": "stream",
     "text": [
      "[[1 1]\n",
      " [2 2]\n",
      " [3 3]\n",
      " [4 4]]\n",
      "[[1 1 3 3]\n",
      " [2 2 4 4]]\n"
     ]
    }
   ],
   "source": [
    "a1 = np.array([[1, 1], [2, 2]])\n",
    "a2 = np.array([[3, 3], [4, 4]])\n",
    "\n",
    "## Stack vertically: np.vstack( (a1, a2,...) )\n",
    "print(np.vstack((a1, a2))) \n",
    "\n",
    "## Stack horizontally\n",
    "print(np.hstack((a1, a2)))\n"
   ]
  },
  {
   "cell_type": "markdown",
   "metadata": {},
   "source": [
    "## Exercise \n",
    "Is there a difference between `np.zeros()` and `np.empty()`? Select one of the options given:\n",
    "- A. No difference, they both output arrays of zeros. \n",
    "- B. `np.zeros()` is not initialized, but gives an output of zeros. \n",
    "- C. `np.zeros()` is faster to execute than `np.empty()`.\n",
    "- D. `np.empty()` outputs an uninitialized array, but `np.zeros()` outputs an initialized array of value zero.\n",
    "\n",
    "D. np.empty() creates an array with unitialized elements from available memory space and may be faster to execute."
   ]
  }
 ],
 "metadata": {
  "kernelspec": {
   "display_name": "Python 3",
   "language": "python",
   "name": "python3"
  },
  "language_info": {
   "codemirror_mode": {
    "name": "ipython",
    "version": 3
   },
   "file_extension": ".py",
   "mimetype": "text/x-python",
   "name": "python",
   "nbconvert_exporter": "python",
   "pygments_lexer": "ipython3",
   "version": "3.12.4"
  }
 },
 "nbformat": 4,
 "nbformat_minor": 2
}
