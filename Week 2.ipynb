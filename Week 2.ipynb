{
 "cells": [
  {
   "cell_type": "markdown",
   "metadata": {},
   "source": [
    "# Week 2: Solving Systems of Linear Equations"
   ]
  },
  {
   "cell_type": "markdown",
   "metadata": {},
   "source": [
    "## Gaussian Elimination Algorithm"
   ]
  },
  {
   "cell_type": "code",
   "execution_count": 1,
   "metadata": {},
   "outputs": [],
   "source": [
    "import numpy as np"
   ]
  },
  {
   "cell_type": "markdown",
   "metadata": {},
   "source": [
    "Gaussian elimination is a systematic approach to solves systems of linear equations. The algorithm consists of several steps:\n",
    "1. Augment a matrix\n",
    "2. Transform matrix into row-echelon form\n",
    "3. Bask substitution (solve for variables from the last row upwards)\n",
    "4. Combine functions into a single comprehensive function"
   ]
  },
  {
   "cell_type": "markdown",
   "metadata": {},
   "source": [
    "### Step 1. Construct the Augmented Matrix"
   ]
  },
  {
   "cell_type": "code",
   "execution_count": 3,
   "metadata": {},
   "outputs": [],
   "source": [
    "def augmented_matrix(A, B):\n",
    "    \"\"\"\n",
    "    Horizonally stack matrices A and B\n",
    "    \"\"\"\n",
    "    augmented_M = np.hstack((A, B))\n",
    "    return augmented_M"
   ]
  },
  {
   "cell_type": "markdown",
   "metadata": {},
   "source": [
    "### Step 2: Transform the matrix into row-echelon form\n",
    "#### 2.1 - Theory \n",
    "A matrix in row echelon form follows:\n",
    "- Rows consisting of entirely zeros positioned at the bottom\n",
    "- Each non-zero row has its left-most non-zero coefficient (pivot) located to the right of that of the row above it. So all elements below the pivot within the same column are 0.\n",
    "\n",
    "Example of matrix in row echelon form:\n",
    "$$M =\n",
    "\\begin{bmatrix}\n",
    "7 & 2 & 3 \\\\\n",
    "0 & 9 & 4 \\\\\n",
    "0 & 0 & 3 \\\\\n",
    "\\end{bmatrix}\n",
    "$$\n",
    "\n",
    "#### 2.2 - Algorithm Implementation\n",
    "Consider matrix $M$ given by:\n",
    "\n",
    "$$\n",
    "M = \n",
    "\\begin{bmatrix} \n",
    "* & * & * & \\\\\n",
    "0 & \\text{pivot} & * \\\\\n",
    "0 & \\text{value} & * \n",
    "\\end{bmatrix}\n",
    "$$\n",
    "\n",
    "The asterisk (*) denotes any number. To nullify the last row (row $2$), we:\n",
    "\n",
    "- Scale $R_1$ by the inverse of the pivot and get the updated matrix with the pivot for row $1$ set to $1$:\n",
    "\n",
    "$$\n",
    "\\text{Row 1} \\rightarrow \\frac{1}{\\text{pivot}} \\cdot \\text{Row } \n",
    "$$\n",
    "\n",
    "$$\n",
    "M = \n",
    "\\begin{bmatrix} \n",
    "* & * & * & \\\\\n",
    "0 & 1 & * \\\\\n",
    "0 & \\text{value} & * \n",
    "\\end{bmatrix}\n",
    "$$\n",
    "\n",
    "- Then to eliminate the value below the pivot in row $1$, we subtract the row by the value timed the above row.\n",
    "\n",
    "$$\n",
    "\\text{Row 2} \\rightarrow \\text{Row 2} - \\text{value}\\cdot \\text{Row 1}\n",
    "$$\n",
    "\n",
    "$$\n",
    "M = \n",
    "\\begin{bmatrix} \n",
    "* & * & * & \\\\\n",
    "0 & 1 & * \\\\\n",
    "0 & 0 & * \n",
    "\\end{bmatrix}\n",
    "$$"
   ]
  },
  {
   "cell_type": "code",
   "execution_count": 4,
   "metadata": {},
   "outputs": [],
   "source": [
    "def get_index_first_non_zero_value_from_column(M, column, starting_row):\n",
    "    \"\"\"\n",
    "    Auxiliary function to get the index of the first non-zero value in a COLUMN of a given matrix\n",
    "    \"\"\"\n",
    "    column_array = M[starting_row:, column] # starting from the specified row, get values along the specified column\n",
    "    for i, val in enumerate(column_array):\n",
    "        if not np.isclose(val, 0, atol=1e-5): # if not close to 0\n",
    "            index = i + starting_row # is what we aim to find, get the index\n",
    "            return index\n",
    "    return -1 # if no non-zero values in the column\n"
   ]
  },
  {
   "cell_type": "code",
   "execution_count": 5,
   "metadata": {},
   "outputs": [],
   "source": [
    "def swap_rows(M, row_index_1, row_index_2):\n",
    "    \"\"\"\n",
    "    Auxiliary function to swap 2 rows given their indices\n",
    "    \"\"\"\n",
    "    M = M.copy()\n",
    "    M[row_index_1], M[row_index_2] = M[row_index_2], M[row_index_1]\n",
    "    return M"
   ]
  },
  {
   "cell_type": "code",
   "execution_count": 6,
   "metadata": {},
   "outputs": [],
   "source": [
    "def row_echelon_form(A, B):\n",
    "    # Check singularity of matrices (infinite or no solutions)\n",
    "    det_A = np.linalg.det(A)\n",
    "    if np.isclose(det_A, 0):\n",
    "        return \"Singular system\"\n",
    "\n",
    "    # Make copies of the input to avoid modifying the original\n",
    "    A, B = A.copy(), B.copy()\n",
    "\n",
    "    # Convert matrices to float to prevent integer division\n",
    "    A, B = A.astype('float64'), B.astype('float64')\n",
    "\n",
    "    # Construct augmented matrix M = [A|B]\n",
    "    M = augmented_matrix(A, B)\n",
    "\n",
    "    # Transformation\n",
    "    num_rows = len(A)\n",
    "    for row in range(num_rows):\n",
    "        pivot_candidate = M[row, row] # the first pivot candidate is in the diagonal\n",
    "\n",
    "        if np.isclose(pivot_candidate, 0): # if the pivot candidate is 0\n",
    "            first_non_zero_value_below_pivot_candidate = get_index_first_non_zero_value_from_column(M, row, row) # find the first non-zero entry in the column\n",
    "            M = swap_rows(M, row, first_non_zero_value_below_pivot_candidate) # swap rows with non-zero entry in the column\n",
    "        \n",
    "        else: # is non-zero\n",
    "            pivot = pivot_candidate # set as pivot of the row\n",
    "        \n",
    "        # Apply row reduction below the pivot\n",
    "        M[row] = M[row] * 1 / pivot # divide to get pivot value to 1, normalize accordingly the current row\n",
    "        \n",
    "        for j in range(row + 1, num_rows): # for rows below the current row\n",
    "            value_below_pivot = M[j, row]\n",
    "            M[j] = M[j] - M[row] * value_below_pivot # subtract the above row to get the value below pivot to 0, change accordingly the whole row j\n",
    "    return M"
   ]
  },
  {
   "cell_type": "markdown",
   "metadata": {},
   "source": [
    "### Step 3: Backsubstitution"
   ]
  },
  {
   "cell_type": "markdown",
   "metadata": {},
   "source": [
    "\n",
    "Backsubstitution initiates from the bottom and goes upward, aiming to convert every element above the pivot into zeros. The final result is a reduced row  echelon form matrix. The formula applied to rows:\n",
    "$$\\text{Row above} \\rightarrow \\text{Row above} - \\text{value} \\cdot \\text{Row pivot}$$\n",
    "\n",
    "After transforming to row echelon form as in step 2, the pivots are all 1, but there are non-zero and non-one values above the pivots. For example, consider the matrix:\n",
    "$$\n",
    "M = \n",
    "\\begin{bmatrix} \n",
    "\\phantom{-}1 & -1 & \\phantom{-}\\frac{1}{2} & | & \\phantom{-}\\frac{1}{2} \\\\\n",
    "\\phantom{-}0 & \\phantom{-}1 & \\phantom{-}1 & | & -1 \\\\\n",
    "\\phantom{-}0 & \\phantom{-}0 & \\phantom{-}1 & | & -1 \n",
    "\\end{bmatrix}\n",
    "$$\n",
    "\n",
    "Starting from bottom (row 2) to top (row 0):\n",
    "\n",
    "- $R_2$:\n",
    "\n",
    "- -  $R_1 = R_1 - 1 \\cdot R_2 = \\begin{bmatrix} 0 & 1 & 0 & | & 0 \\end{bmatrix}$\n",
    "- - $R_0 = R_0 - \\frac{1}{2} \\cdot R_2 = \\begin{bmatrix} 1 & -1& 0 & | & 1 \\end{bmatrix}$\n",
    "\n",
    "The resulting matrix is then\n",
    "\n",
    "$$\n",
    "M = \n",
    "\\begin{bmatrix} \n",
    "\\phantom{-}1 & -1 & \\phantom{-}0 & | & \\phantom{-}1  \\\\\n",
    "\\phantom{-}0 & \\phantom{-}1 & \\phantom{-}0 & | & \\phantom{-}0 \\\\\n",
    "\\phantom{-}0 & \\phantom{-}0 & \\phantom{-}1 & | & -1 \n",
    "\\end{bmatrix}\n",
    "$$\n",
    "\n",
    "Moving upwards to $R_1$:\n",
    "\n",
    "- $R_1$:\n",
    "\n",
    "- - $R_0 = R_0 - \\left(-1 \\cdot R_1 \\right) = \\begin{bmatrix} 1 & 0 & 0 & | & 1 \\end{bmatrix}$\n",
    "\n",
    "And the final matrix is\n",
    "\n",
    "$$\n",
    "M = \n",
    "\\begin{bmatrix} \n",
    "\\phantom{-}1 & \\phantom{-}0 & \\phantom{-}0 & | & \\phantom{-}1  \\\\\n",
    "\\phantom{-}0 & \\phantom{-}1 & \\phantom{-}0 & | & \\phantom{-}0 \\\\\n",
    "\\phantom{-}0 & \\phantom{-}0 & \\phantom{-}1 & | & -1\n",
    "\\end{bmatrix}\n",
    "$$\n",
    "\n"
   ]
  },
  {
   "cell_type": "code",
   "execution_count": 9,
   "metadata": {},
   "outputs": [],
   "source": [
    "def get_index_first_non_zero_value_from_row(M, row, augmented=False):\n",
    "    \"\"\"\n",
    "    Auxiliary function to get the index of the first non-zero value from a specified row\n",
    "    \"\"\"\n",
    "    M = M.copy()\n",
    "    if augmented == True: # only get values from the original matrix, not constant column\n",
    "        M = M[:, :-1] # every row, every column except the last column\n",
    "    row_array = M[row]\n",
    "    for i, val in enumerate(row_array):\n",
    "        if np.isclose(val, 0, atol=1e-5):\n",
    "            return i\n",
    "    return -1\n",
    "        "
   ]
  },
  {
   "cell_type": "code",
   "execution_count": 10,
   "metadata": {},
   "outputs": [],
   "source": [
    "def backsubstitution(M):\n",
    "    M = M.copy()\n",
    "    num_rows = len(M)\n",
    "    for row in reversed(range(num_rows)): # go bottom up \n",
    "        substitution_row = M[row] # fix the row to subtract the rows above from\n",
    "        pivot = get_index_first_non_zero_value_from_row(M, row, augmented=True) # get index of the pivot of the row\n",
    "\n",
    "        for j in range(row): # loop through all rows above the current row\n",
    "            row_to_reduce = M[j]\n",
    "            value = row_to_reduce[pivot] # the values above the pivot\n",
    "            row_to_reduce = row_to_reduce - substitution_row * value\n",
    "            M[j, :] = row_to_reduce[:]\n",
    "    return M[:, -1] # return the constant column, solution of the reduced echelon form augmented matrix\n"
   ]
  },
  {
   "cell_type": "markdown",
   "metadata": {},
   "source": [
    "### Step 4: Combine into one function"
   ]
  },
  {
   "cell_type": "code",
   "execution_count": 11,
   "metadata": {},
   "outputs": [],
   "source": [
    "def gaussian_elimination(A, B):\n",
    "    row_echelon_M = row_echelon_form(A, B)\n",
    "    res = backsubstitution(row_echelon_M)\n",
    "    return res"
   ]
  },
  {
   "cell_type": "markdown",
   "metadata": {},
   "source": [
    "### Test"
   ]
  },
  {
   "cell_type": "code",
   "execution_count": 15,
   "metadata": {},
   "outputs": [
    {
     "data": {
      "text/plain": [
       "array([ 46.97540984,   1.66666667, -49.58333333,   1.27459016])"
      ]
     },
     "execution_count": 15,
     "metadata": {},
     "output_type": "execute_result"
    }
   ],
   "source": [
    "equations = \"\"\"\n",
    "3*x + 6*y + 6*w + 8*z = 1\n",
    "5*x + 3*y + 6*w = -10\n",
    "4*y - 5*w + 8*z = 8\n",
    "4*w + 8*z = 9\n",
    "\"\"\"\n",
    "\n",
    "A = np.array([[3, 6, 6, 8], [5, 3, 6, 0], [4, -5, 0, 8], [0, 0, 4, 8]])\n",
    "B = np.array([[1], [-10], [8], [9]])\n",
    "gaussian_elimination(A, B)\n"
   ]
  }
 ],
 "metadata": {
  "kernelspec": {
   "display_name": "base",
   "language": "python",
   "name": "python3"
  },
  "language_info": {
   "codemirror_mode": {
    "name": "ipython",
    "version": 3
   },
   "file_extension": ".py",
   "mimetype": "text/x-python",
   "name": "python",
   "nbconvert_exporter": "python",
   "pygments_lexer": "ipython3",
   "version": "3.12.4"
  }
 },
 "nbformat": 4,
 "nbformat_minor": 2
}
